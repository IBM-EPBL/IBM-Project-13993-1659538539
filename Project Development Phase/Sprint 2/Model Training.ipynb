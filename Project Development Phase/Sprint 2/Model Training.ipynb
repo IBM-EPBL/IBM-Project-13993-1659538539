{
 "cells": [
  {
   "cell_type": "markdown",
   "id": "1305e564",
   "metadata": {},
   "source": [
    "# Model Building"
   ]
  },
  {
   "cell_type": "markdown",
   "id": "d8d4090f",
   "metadata": {},
   "source": [
    "### Importing the model building libraries "
   ]
  },
  {
   "cell_type": "code",
   "execution_count": 18,
   "id": "69bab1ba",
   "metadata": {},
   "outputs": [],
   "source": [
    "import numpy as np\n",
    "import tensorflow as tf\n",
    "from tensorflow.keras.models import Sequential \n",
    "from tensorflow.keras.layers import Dense,Flatten, Dropout\n",
    "from tensorflow.keras.layers import Convolution2D,MaxPooling2D  \n",
    "from tensorflow.keras.preprocessing.image import ImageDataGenerator"
   ]
  },
  {
   "cell_type": "markdown",
   "id": "fc889ca9",
   "metadata": {},
   "source": [
    "### Data Augmentation"
   ]
  },
  {
   "cell_type": "code",
   "execution_count": 2,
   "id": "023df72d",
   "metadata": {},
   "outputs": [],
   "source": [
    "train_datagen = ImageDataGenerator(rescale=1./255,\n",
    "                                   shear_range=0.2,\n",
    "                              \n",
    "                                   zoom_range=0.2,\n",
    "                                   horizontal_flip=True)\n",
    "test_datagen=ImageDataGenerator(rescale=1./255)"
   ]
  },
  {
   "cell_type": "markdown",
   "id": "5b583761",
   "metadata": {},
   "source": [
    "### Loading our data and performing data augmentation"
   ]
  },
  {
   "cell_type": "code",
   "execution_count": 19,
   "id": "3b3a2679",
   "metadata": {},
   "outputs": [
    {
     "name": "stdout",
     "output_type": "stream",
     "text": [
      "Found 594 images belonging to 6 classes.\n",
      "Found 30 images belonging to 6 classes.\n"
     ]
    }
   ],
   "source": [
    "x_train = train_datagen.flow_from_directory(r\"D:\\New folder\\Dataset\\train\",target_size = (64,64),batch_size = 3,color_mode='grayscale',class_mode ='categorical')\n",
    "x_test = test_datagen.flow_from_directory(r\"D:\\New folder\\Dataset\\test\",target_size = (64,64), batch_size = 3,color_mode='grayscale',class_mode ='categorical')"
   ]
  },
  {
   "cell_type": "code",
   "execution_count": 20,
   "id": "8e4ce0b6",
   "metadata": {},
   "outputs": [
    {
     "name": "stdout",
     "output_type": "stream",
     "text": [
      "{'0': 0, '1': 1, '2': 2, '3': 3, '4': 4, '5': 5}\n"
     ]
    }
   ],
   "source": [
    "print(x_train.class_indices)"
   ]
  },
  {
   "cell_type": "markdown",
   "id": "4d8d6cfa",
   "metadata": {},
   "source": [
    "### Model Initialization "
   ]
  },
  {
   "cell_type": "code",
   "execution_count": 21,
   "id": "f76b5b5b",
   "metadata": {},
   "outputs": [],
   "source": [
    "model=Sequential()"
   ]
  },
  {
   "cell_type": "markdown",
   "id": "9c733be4",
   "metadata": {},
   "source": [
    "### Adding CNN Layers "
   ]
  },
  {
   "cell_type": "code",
   "execution_count": 22,
   "id": "cd0e2f5e",
   "metadata": {},
   "outputs": [],
   "source": [
    "model.add(Conv2D(32,(3,3), input_shape=(64,64,1), activation ='relu'))\n",
    "model.add(MaxPooling2D(pool_size=(2,2)))\n",
    "model.add(Conv2D(32,(3,3), activation='relu'))\n",
    "model.add(MaxPooling2D(pool_size=(2,2)))\n",
    "model.add(Flatten())"
   ]
  },
  {
   "cell_type": "markdown",
   "id": "e0d225d8",
   "metadata": {},
   "source": [
    "### Adding Dense Layers"
   ]
  },
  {
   "cell_type": "code",
   "execution_count": 23,
   "id": "cca1daa6",
   "metadata": {},
   "outputs": [],
   "source": [
    "model.add(Dense(units=512,activation='relu'))\n",
    "model.add(Dense(units=6,activation='softmax'))"
   ]
  },
  {
   "cell_type": "code",
   "execution_count": 24,
   "id": "2985c585",
   "metadata": {},
   "outputs": [
    {
     "name": "stdout",
     "output_type": "stream",
     "text": [
      "Model: \"sequential_1\"\n",
      "_________________________________________________________________\n",
      " Layer (type)                Output Shape              Param #   \n",
      "=================================================================\n",
      " conv2d_2 (Conv2D)           (None, 62, 62, 32)        320       \n",
      "                                                                 \n",
      " max_pooling2d_2 (MaxPooling  (None, 31, 31, 32)       0         \n",
      " 2D)                                                             \n",
      "                                                                 \n",
      " conv2d_3 (Conv2D)           (None, 29, 29, 32)        9248      \n",
      "                                                                 \n",
      " max_pooling2d_3 (MaxPooling  (None, 14, 14, 32)       0         \n",
      " 2D)                                                             \n",
      "                                                                 \n",
      " flatten_1 (Flatten)         (None, 6272)              0         \n",
      "                                                                 \n",
      " dense_8 (Dense)             (None, 512)               3211776   \n",
      "                                                                 \n",
      " dense_9 (Dense)             (None, 6)                 3078      \n",
      "                                                                 \n",
      "=================================================================\n",
      "Total params: 3,224,422\n",
      "Trainable params: 3,224,422\n",
      "Non-trainable params: 0\n",
      "_________________________________________________________________\n"
     ]
    }
   ],
   "source": [
    "model.summary()"
   ]
  },
  {
   "cell_type": "markdown",
   "id": "5a41da54",
   "metadata": {},
   "source": [
    "# Model Compilation"
   ]
  },
  {
   "cell_type": "code",
   "execution_count": 27,
   "id": "ab0fb2a9",
   "metadata": {},
   "outputs": [],
   "source": [
    "model.compile(optimizer='adam', loss='categorical_crossentropy', metrics=['accuracy']) "
   ]
  },
  {
   "cell_type": "markdown",
   "id": "16c3c134",
   "metadata": {},
   "source": [
    "## Training the model"
   ]
  },
  {
   "cell_type": "markdown",
   "id": "66fbe579",
   "metadata": {},
   "source": [
    "###  Model fitting"
   ]
  },
  {
   "cell_type": "code",
   "execution_count": 28,
   "id": "b3809a9a",
   "metadata": {},
   "outputs": [
    {
     "name": "stdout",
     "output_type": "stream",
     "text": [
      "Epoch 1/25\n"
     ]
    },
    {
     "name": "stderr",
     "output_type": "stream",
     "text": [
      "C:\\Users\\Admin\\AppData\\Local\\Temp\\ipykernel_3112\\3451504056.py:1: UserWarning: `Model.fit_generator` is deprecated and will be removed in a future version. Please use `Model.fit`, which supports generators.\n",
      "  model.fit_generator(x_train,\n"
     ]
    },
    {
     "name": "stdout",
     "output_type": "stream",
     "text": [
      "198/198 [==============================] - 8s 35ms/step - loss: 1.3777 - accuracy: 0.4646 - val_loss: 0.6199 - val_accuracy: 0.7333\n",
      "Epoch 2/25\n",
      "198/198 [==============================] - 7s 33ms/step - loss: 0.6012 - accuracy: 0.7660 - val_loss: 0.3735 - val_accuracy: 0.9000\n",
      "Epoch 3/25\n",
      "198/198 [==============================] - 7s 37ms/step - loss: 0.4252 - accuracy: 0.8451 - val_loss: 0.2633 - val_accuracy: 0.9333\n",
      "Epoch 4/25\n",
      "198/198 [==============================] - 7s 33ms/step - loss: 0.2835 - accuracy: 0.9040 - val_loss: 0.3102 - val_accuracy: 0.9000\n",
      "Epoch 5/25\n",
      "198/198 [==============================] - 7s 35ms/step - loss: 0.2265 - accuracy: 0.9175 - val_loss: 0.2665 - val_accuracy: 0.8667\n",
      "Epoch 6/25\n",
      "198/198 [==============================] - 6s 32ms/step - loss: 0.1848 - accuracy: 0.9293 - val_loss: 0.1487 - val_accuracy: 0.9667\n",
      "Epoch 7/25\n",
      "198/198 [==============================] - 6s 32ms/step - loss: 0.1545 - accuracy: 0.9377 - val_loss: 0.1618 - val_accuracy: 0.9667\n",
      "Epoch 8/25\n",
      "198/198 [==============================] - 7s 33ms/step - loss: 0.0952 - accuracy: 0.9714 - val_loss: 0.1758 - val_accuracy: 0.9333\n",
      "Epoch 9/25\n",
      "198/198 [==============================] - 7s 34ms/step - loss: 0.1694 - accuracy: 0.9478 - val_loss: 0.4433 - val_accuracy: 0.8000\n",
      "Epoch 10/25\n",
      "198/198 [==============================] - 6s 32ms/step - loss: 0.0689 - accuracy: 0.9764 - val_loss: 0.2010 - val_accuracy: 0.9667\n",
      "Epoch 11/25\n",
      "198/198 [==============================] - 7s 34ms/step - loss: 0.0850 - accuracy: 0.9714 - val_loss: 0.2113 - val_accuracy: 0.9000\n",
      "Epoch 12/25\n",
      "198/198 [==============================] - 6s 31ms/step - loss: 0.0568 - accuracy: 0.9798 - val_loss: 0.2163 - val_accuracy: 0.9667\n",
      "Epoch 13/25\n",
      "198/198 [==============================] - 6s 32ms/step - loss: 0.0447 - accuracy: 0.9815 - val_loss: 0.1506 - val_accuracy: 0.9000\n",
      "Epoch 14/25\n",
      "198/198 [==============================] - 6s 31ms/step - loss: 0.0535 - accuracy: 0.9815 - val_loss: 0.1665 - val_accuracy: 0.9667\n",
      "Epoch 15/25\n",
      "198/198 [==============================] - 6s 32ms/step - loss: 0.0989 - accuracy: 0.9630 - val_loss: 0.2479 - val_accuracy: 0.9333\n",
      "Epoch 16/25\n",
      "198/198 [==============================] - 7s 33ms/step - loss: 0.0454 - accuracy: 0.9798 - val_loss: 0.2539 - val_accuracy: 0.9333\n",
      "Epoch 17/25\n",
      "198/198 [==============================] - 6s 32ms/step - loss: 0.0222 - accuracy: 0.9949 - val_loss: 0.2553 - val_accuracy: 0.9333\n",
      "Epoch 18/25\n",
      "198/198 [==============================] - 10s 48ms/step - loss: 0.0292 - accuracy: 0.9949 - val_loss: 0.1708 - val_accuracy: 0.9333\n",
      "Epoch 19/25\n",
      "198/198 [==============================] - 8s 42ms/step - loss: 0.0060 - accuracy: 0.9983 - val_loss: 0.1921 - val_accuracy: 0.9667\n",
      "Epoch 20/25\n",
      "198/198 [==============================] - 6s 32ms/step - loss: 0.0390 - accuracy: 0.9848 - val_loss: 0.2202 - val_accuracy: 0.9667\n",
      "Epoch 21/25\n",
      "198/198 [==============================] - 7s 36ms/step - loss: 0.0614 - accuracy: 0.9747 - val_loss: 0.0367 - val_accuracy: 1.0000\n",
      "Epoch 22/25\n",
      "198/198 [==============================] - 7s 38ms/step - loss: 0.0658 - accuracy: 0.9764 - val_loss: 0.2446 - val_accuracy: 0.9333\n",
      "Epoch 23/25\n",
      "198/198 [==============================] - 7s 34ms/step - loss: 0.0166 - accuracy: 0.9949 - val_loss: 0.0201 - val_accuracy: 1.0000\n",
      "Epoch 24/25\n",
      "198/198 [==============================] - 7s 37ms/step - loss: 0.0427 - accuracy: 0.9882 - val_loss: 0.0123 - val_accuracy: 1.0000\n",
      "Epoch 25/25\n",
      "198/198 [==============================] - 7s 34ms/step - loss: 0.0379 - accuracy: 0.9882 - val_loss: 0.1686 - val_accuracy: 0.9333\n"
     ]
    },
    {
     "data": {
      "text/plain": [
       "<keras.callbacks.History at 0x1fa3e3d8910>"
      ]
     },
     "execution_count": 28,
     "metadata": {},
     "output_type": "execute_result"
    }
   ],
   "source": [
    "model.fit_generator(x_train,\n",
    "                    steps_per_epoch = 594/3 , \n",
    "                    epochs = 25, \n",
    "                    validation_data = x_test,\n",
    "                    validation_steps = 30/3 )"
   ]
  },
  {
   "cell_type": "markdown",
   "id": "f38ca736",
   "metadata": {},
   "source": [
    "# Saving the model"
   ]
  },
  {
   "cell_type": "code",
   "execution_count": 29,
   "id": "bc9305ce",
   "metadata": {},
   "outputs": [],
   "source": [
    "model.save('gesture.h5')"
   ]
  },
  {
   "cell_type": "code",
   "execution_count": 32,
   "id": "5e844c28",
   "metadata": {},
   "outputs": [],
   "source": [
    "model_json = model.to_json()\n",
    "with open(\"model-bw.json\", \"w\") as json_file:\n",
    "    json_file.write(model_json)"
   ]
  }
 ],
 "metadata": {
  "kernelspec": {
   "display_name": "Python 3 (ipykernel)",
   "language": "python",
   "name": "python3"
  },
  "language_info": {
   "codemirror_mode": {
    "name": "ipython",
    "version": 3
   },
   "file_extension": ".py",
   "mimetype": "text/x-python",
   "name": "python",
   "nbconvert_exporter": "python",
   "pygments_lexer": "ipython3",
   "version": "3.9.12"
  }
 },
 "nbformat": 4,
 "nbformat_minor": 5
}
